{
 "cells": [
  {
   "cell_type": "markdown",
   "metadata": {},
   "source": [
    "## Natural Language Processing\n",
    "### 1 >>> importing libraries"
   ]
  },
  {
   "cell_type": "code",
   "execution_count": 1,
   "metadata": {},
   "outputs": [],
   "source": [
    "import numpy as np\n",
    "import pandas as pd\n",
    "import matplotlib.pyplot as plt"
   ]
  },
  {
   "cell_type": "markdown",
   "metadata": {},
   "source": [
    "### 2 >>> importing data"
   ]
  },
  {
   "cell_type": "code",
   "execution_count": 2,
   "metadata": {},
   "outputs": [
    {
     "name": "stdout",
     "output_type": "stream",
     "text": [
      "                                                Review  Liked\n",
      "0                             Wow... Loved this place.      1\n",
      "1                                   Crust is not good.      0\n",
      "2            Not tasty and the texture was just nasty.      0\n",
      "3    Stopped by during the late May bank holiday of...      1\n",
      "4    The selection on the menu was great and so wer...      1\n",
      "..                                                 ...    ...\n",
      "995  I think food should have flavor and texture an...      0\n",
      "996                           Appetite instantly gone.      0\n",
      "997  Overall I was not impressed and would not go b...      0\n",
      "998  The whole experience was underwhelming, and I ...      0\n",
      "999  Then, as if I hadn't wasted enough of my life ...      0\n",
      "\n",
      "[1000 rows x 2 columns]\n"
     ]
    }
   ],
   "source": [
    "data = pd.read_csv('Data for NLP.tsv',delimiter= '\\t',quoting=3)\n",
    "print(data)\n",
    "# delimiter says that the data is seperated using tab space in our data\n",
    "# quoting=3 remove any quotes in our data"
   ]
  },
  {
   "cell_type": "markdown",
   "metadata": {},
   "source": [
    "### 3 >>> importing all NLP libraries"
   ]
  },
  {
   "cell_type": "code",
   "execution_count": 3,
   "metadata": {
    "scrolled": true
   },
   "outputs": [
    {
     "name": "stderr",
     "output_type": "stream",
     "text": [
      "[nltk_data] Error loading stopwords: <urlopen error [Errno 11001]\n",
      "[nltk_data]     getaddrinfo failed>\n"
     ]
    },
    {
     "data": {
      "text/plain": [
       "False"
      ]
     },
     "execution_count": 3,
     "metadata": {},
     "output_type": "execute_result"
    }
   ],
   "source": [
    "import re\n",
    "import nltk\n",
    "from nltk.tokenize import word_tokenize\n",
    "from nltk.corpus import stopwords\n",
    "from nltk.stem.porter import PorterStemmer \n",
    "from sklearn.metrics import confusion_matrix, accuracy_score,plot_confusion_matrix\n",
    "\n",
    "nltk.download('stopwords')"
   ]
  },
  {
   "cell_type": "markdown",
   "metadata": {},
   "source": [
    "### cleaning the text (pre-processing the text)"
   ]
  },
  {
   "cell_type": "code",
   "execution_count": 4,
   "metadata": {},
   "outputs": [],
   "source": [
    "corpus = []  # creating empty list\n",
    "for i in range(0,1000): # running for each and every review\n",
    "    review = data['Review'][i] #storing in a variable\n",
    "    review = review.lower()   # converting lo lower case     \n",
    "    \n",
    "    # substituting all the available shortcuts in our document\n",
    "    review = re.sub(r\"i'm\", \"i am\", review)\n",
    "    review = re.sub(r\"\\'ll\", \" will\", review)  \n",
    "    review = re.sub(r\"\\'ve\", \" have\", review)  \n",
    "    review = re.sub(r\"\\'re\", \" are\", review)\n",
    "    review = re.sub(r\"\\'d\", \" would\", review)\n",
    "    review = re.sub(r\"\\'ve\", \" have\", review)\n",
    "    review = re.sub(r\"won't\", \"will not\", review)\n",
    "    review = re.sub(r\"don't\", \"do not\", review)\n",
    "    review = re.sub(r\"did't\", \"did not\", review)\n",
    "    review = re.sub(r\"can't\", \"can not\", review)\n",
    "    review = re.sub(r\"it's\", \"it is\", review)\n",
    "    \n",
    "    # substituting unwanted characters with space\n",
    "    review = re.sub(r\"[,.\\\"!@#$%^&*(){}?/;`~:<>+=-]\", \"\", review)\n",
    "    tokens = word_tokenize(review)  # splitting to each word\n",
    "    # allowing only alphabets\n",
    "    words = [word for word in tokens if word.isalpha()]\n",
    "    \n",
    "    stop_words = set(stopwords.words(\"english\"))  #including stopwords\n",
    "    stop_words.discard(\"not\")  # removing 'not' from stopwords as it is iump for our review\n",
    "    PS = PorterStemmer()  # creating oject for PorterStemmer\n",
    "    \n",
    "    # appling stemming on each word after removing the stop words\n",
    "    words = [PS.stem(w) for w in words if not w in stop_words]  \n",
    "    words = ' '.join(words)  # jong the words with spaces\n",
    "    corpus.append(words)  # adding all the words to list we created"
   ]
  },
  {
   "cell_type": "code",
   "execution_count": 5,
   "metadata": {},
   "outputs": [
    {
     "data": {
      "text/plain": [
       "['wow love place',\n",
       " 'crust not good',\n",
       " 'not tasti textur nasti',\n",
       " 'stop late may bank holiday rick steve recommend love',\n",
       " 'select menu great price',\n",
       " 'get angri want damn pho',\n",
       " 'honeslti tast fresh',\n",
       " 'potato like rubber could tell made ahead time kept warmer',\n",
       " 'fri great',\n",
       " 'great touch',\n",
       " 'servic prompt',\n",
       " 'would not go back',\n",
       " 'cashier care ever say still end wayyy overpr',\n",
       " 'tri cape cod ravoli chicken cranberrymmmm',\n",
       " 'disgust pretti sure human hair',\n",
       " 'shock sign indic cash',\n",
       " 'highli recommend',\n",
       " 'waitress littl slow servic',\n",
       " 'place not worth time let alon vega',\n",
       " 'not like']"
      ]
     },
     "execution_count": 5,
     "metadata": {},
     "output_type": "execute_result"
    }
   ],
   "source": [
    "corpus[0:20]"
   ]
  },
  {
   "cell_type": "markdown",
   "metadata": {},
   "source": [
    "### 4 >>> creating bag of words"
   ]
  },
  {
   "cell_type": "markdown",
   "metadata": {},
   "source": [
    "### A: Countervector"
   ]
  },
  {
   "cell_type": "code",
   "execution_count": 6,
   "metadata": {},
   "outputs": [
    {
     "name": "stdout",
     "output_type": "stream",
     "text": [
      "(1000, 1580)\n",
      "(1000,)\n"
     ]
    }
   ],
   "source": [
    "from sklearn.feature_extraction.text import CountVectorizer\n",
    "cv = CountVectorizer(max_features=1580)   \n",
    "xc = cv.fit_transform(corpus).toarray()  \n",
    "yc = data.iloc[0:,1].values\n",
    "print(np.shape(xc))\n",
    "print(np.shape(yc))"
   ]
  },
  {
   "cell_type": "markdown",
   "metadata": {},
   "source": [
    "\n",
    "### B: TF-IDF  (Term Frequency - Inverse Document Frequency)"
   ]
  },
  {
   "cell_type": "code",
   "execution_count": 7,
   "metadata": {
    "scrolled": true
   },
   "outputs": [
    {
     "name": "stdout",
     "output_type": "stream",
     "text": [
      "(1000, 400)\n",
      "(1000,)\n"
     ]
    }
   ],
   "source": [
    "from sklearn.feature_extraction.text import TfidfVectorizer\n",
    "TV = TfidfVectorizer(min_df=2,max_features=400)   \n",
    "xt = TV.fit_transform(corpus).toarray()\n",
    "yt = data.iloc[:,1].values\n",
    "print(np.shape(xt))\n",
    "print(np.shape(yt))"
   ]
  },
  {
   "cell_type": "markdown",
   "metadata": {},
   "source": [
    "## 5 >>> SVM\n",
    "### 5a >>> Spliting the data into \"test_data\" and \"train_data\""
   ]
  },
  {
   "cell_type": "code",
   "execution_count": 8,
   "metadata": {},
   "outputs": [],
   "source": [
    "from sklearn.model_selection import train_test_split\n",
    "Xt_train,Xt_test,yt_train,yt_test = train_test_split(xt,yt,test_size = 0.2,random_state = 18)"
   ]
  },
  {
   "cell_type": "markdown",
   "metadata": {},
   "source": [
    "### 5b >>> Training model with  SVM"
   ]
  },
  {
   "cell_type": "code",
   "execution_count": 9,
   "metadata": {},
   "outputs": [
    {
     "name": "stdout",
     "output_type": "stream",
     "text": [
      "SVM Accuracy Score ->  84.5\n",
      "[[76  8]\n",
      " [23 93]]\n"
     ]
    },
    {
     "data": {
      "text/plain": [
       "Text(0.5, 1.0, 'Confusion Matrix')"
      ]
     },
     "execution_count": 9,
     "metadata": {},
     "output_type": "execute_result"
    },
    {
     "data": {
      "image/png": "[encoded data removed]",
      "text/plain": [
       "<Figure size 432x288 with 2 Axes>"
      ]
     },
     "metadata": {
      "needs_background": "light"
     },
     "output_type": "display_data"
    }
   ],
   "source": [
    "from sklearn.svm import SVC\n",
    "\n",
    "# Classifier - Algorithm - SVM\n",
    "# fit the training dataset on the classifier\n",
    "svcls = SVC(  kernel='linear', gamma = 'auto',random_state=18)\n",
    "svcls.fit(Xt_train,yt_train)\n",
    "\n",
    "# predict the labels on validation dataset\n",
    "y_pred_SVM = svcls.predict(Xt_test)\n",
    "\n",
    "# Use accuracy_score function to get the accuracy\n",
    "score_SVM = accuracy_score(y_pred_SVM, yt_test)*100\n",
    "print(\"SVM Accuracy Score -> \",score_SVM)\n",
    "\n",
    "# print Confusion matrix\n",
    "print(confusion_matrix(yt_test,y_pred_SVM))\n",
    "plot_confusion_matrix(svcls,Xt_test,yt_test,cmap=plt.cm.Blues).ax_.set_title('Confusion Matrix')"
   ]
  },
  {
   "cell_type": "markdown",
   "metadata": {},
   "source": [
    "### 5c >>> Plotting reviews of test values and predicted values"
   ]
  },
  {
   "cell_type": "code",
   "execution_count": 10,
   "metadata": {},
   "outputs": [],
   "source": [
    "pred_te0 = yt_test[yt_test==0]\n",
    "pred_te1 = yt_test[yt_test==1]\n",
    "slices0 = [len(pred_te0),len(pred_te1)]\n",
    "\n",
    "pred0 = y_pred_SVM[y_pred_SVM==0]\n",
    "pred1 = y_pred_SVM[y_pred_SVM==1]\n",
    "slices1 = [len(pred0),len(pred1)]\n",
    "\n",
    "values = ['Not Liked   ', 'Liked']"
   ]
  },
  {
   "cell_type": "code",
   "execution_count": 11,
   "metadata": {},
   "outputs": [
    {
     "data": {
      "image/png": "[encoded data removed]",
      "text/plain": [
       "<Figure size 432x288 with 1 Axes>"
      ]
     },
     "metadata": {
      "needs_background": "light"
     },
     "output_type": "display_data"
    }
   ],
   "source": [
    "index = np.arange(len(values))\n",
    "width = 0.35\n",
    "fig,ax = plt.subplots()\n",
    "test = ax.bar(index-width/2,slices0,width,label='Test data')\n",
    "pred = ax.bar(index+width/2,slices1,width,label='Predicted data')\n",
    "\n",
    "ax.set_xticks(index)\n",
    "ax.set_xticklabels(values)\n",
    "plt.ylim(0,150)\n",
    "\n",
    "ax.legend()\n",
    "plt.show()"
   ]
  },
  {
   "cell_type": "markdown",
   "metadata": {},
   "source": [
    "## 6 >>> KNN\n",
    "### 6a >>> Spliting the data into \"test_data\" and \"train_data\""
   ]
  },
  {
   "cell_type": "code",
   "execution_count": 12,
   "metadata": {},
   "outputs": [],
   "source": [
    "from sklearn.model_selection import train_test_split\n",
    "Xc_train,Xc_test,yc_train,yc_test = train_test_split(xc,yc,test_size = 0.2,random_state = 18)"
   ]
  },
  {
   "cell_type": "markdown",
   "metadata": {},
   "source": [
    "### 6b >>> Training model with  KNN"
   ]
  },
  {
   "cell_type": "code",
   "execution_count": 13,
   "metadata": {},
   "outputs": [
    {
     "name": "stdout",
     "output_type": "stream",
     "text": [
      "KNN Accuracy Score ->  80.0\n",
      "[[73 11]\n",
      " [29 87]]\n"
     ]
    },
    {
     "data": {
      "text/plain": [
       "Text(0.5, 1.0, 'Confusion Matrix')"
      ]
     },
     "execution_count": 13,
     "metadata": {},
     "output_type": "execute_result"
    },
    {
     "data": {
      "image/png": "[encoded data removed]",
      "text/plain": [
       "<Figure size 432x288 with 2 Axes>"
      ]
     },
     "metadata": {
      "needs_background": "light"
     },
     "output_type": "display_data"
    }
   ],
   "source": [
    "from sklearn.neighbors import KNeighborsClassifier\n",
    "\n",
    "# Classifier - Algorithm - KNN\n",
    "# fit the training dataset on the classifier\n",
    "KNNcls = KNeighborsClassifier(n_neighbors= 3)\n",
    "KNNcls.fit(Xc_train,yc_train)\n",
    "\n",
    "# predict the labels on validation dataset\n",
    "y_pred_KNN = KNNcls.predict(Xc_test)\n",
    "\n",
    "# Use accuracy_score function to get the accuracy\n",
    "score_KNN = accuracy_score(y_pred_KNN, yt_test)*100\n",
    "print(\"KNN Accuracy Score -> \",score_KNN)\n",
    "\n",
    "# print Confusion matrix\n",
    "print(confusion_matrix(yc_test,y_pred_KNN))\n",
    "plot_confusion_matrix(KNNcls,Xc_test,yc_test,cmap=plt.cm.Blues).ax_.set_title('Confusion Matrix')"
   ]
  },
  {
   "cell_type": "markdown",
   "metadata": {},
   "source": [
    "### 6c >>> Plotting reviews of test values and predicted values\n"
   ]
  },
  {
   "cell_type": "code",
   "execution_count": 14,
   "metadata": {},
   "outputs": [],
   "source": [
    "pred_te0 = yc_test[yc_test==0]\n",
    "pred_te1 = yc_test[yc_test==1]\n",
    "slices0 = [len(pred_te0),len(pred_te1)]\n",
    "\n",
    "pred0 = y_pred_KNN[y_pred_KNN==0]\n",
    "pred1 = y_pred_KNN[y_pred_KNN==1]\n",
    "slices1 = [len(pred0),len(pred1)]\n",
    "\n",
    "values = ['Not Liked   ', 'Liked']"
   ]
  },
  {
   "cell_type": "code",
   "execution_count": 15,
   "metadata": {
    "scrolled": true
   },
   "outputs": [
    {
     "data": {
      "image/png": "[encoded data removed]",
      "text/plain": [
       "<Figure size 432x288 with 1 Axes>"
      ]
     },
     "metadata": {
      "needs_background": "light"
     },
     "output_type": "display_data"
    }
   ],
   "source": [
    "index = np.arange(len(values))\n",
    "width = 0.35\n",
    "fig,ax = plt.subplots()\n",
    "test = ax.bar(index-width/2,slices0,width,label='test data')\n",
    "pred = ax.bar(index+width/2,slices1,width,label='predicted data')\n",
    "\n",
    "ax.set_xticks(index)\n",
    "ax.set_xticklabels(values)\n",
    "plt.ylim(0,150)\n",
    "\n",
    "ax.legend()\n",
    "plt.show()"
   ]
  },
  {
   "cell_type": "markdown",
   "metadata": {},
   "source": [
    "## 7 >>> PCA with SVM\n",
    "### 7a >>> Spliting the data into \"test_data\" and \"train_data\""
   ]
  },
  {
   "cell_type": "code",
   "execution_count": 16,
   "metadata": {},
   "outputs": [],
   "source": [
    "from sklearn.model_selection import train_test_split\n",
    "Xc_train,Xc_test,yc_train,yc_test = train_test_split(xc,yc,test_size = 0.2,random_state = 18)"
   ]
  },
  {
   "cell_type": "markdown",
   "metadata": {},
   "source": [
    "### 7b >>> Training model with PCA with SVM"
   ]
  },
  {
   "cell_type": "code",
   "execution_count": 17,
   "metadata": {
    "scrolled": false
   },
   "outputs": [
    {
     "name": "stdout",
     "output_type": "stream",
     "text": [
      "PCA Accuracy Score ->  85.0\n",
      "[[78  6]\n",
      " [24 92]]\n"
     ]
    },
    {
     "data": {
      "text/plain": [
       "Text(0.5, 1.0, 'Confusion Matrix')"
      ]
     },
     "execution_count": 17,
     "metadata": {},
     "output_type": "execute_result"
    },
    {
     "data": {
      "image/png": "[encoded data removed]",
      "text/plain": [
       "<Figure size 432x288 with 2 Axes>"
      ]
     },
     "metadata": {
      "needs_background": "light"
     },
     "output_type": "display_data"
    }
   ],
   "source": [
    "from sklearn.decomposition import PCA\n",
    "from sklearn.svm import SVC\n",
    "# in the starting since we do not know the eigenveactors values we put n_components = None\n",
    "# to get the explained_variance vector chich shows us the max varaince of all the features\n",
    "# after we confirm the significant features change the value of n_components to the that particlur value\n",
    "pca = PCA(n_components=330)\n",
    "Xt_train = pca.fit_transform(Xt_train)\n",
    "Xt_test = pca.transform(Xt_test)\n",
    "explained_variance = pca.explained_variance_ratio_\n",
    "np.set_printoptions( suppress=True)\n",
    "# print(explained_variance)\n",
    "\n",
    "# Classifier - Algorithm - SVM\n",
    "# fit the training dataset on the classifier\n",
    "svcls = SVC(C=1.0, kernel='linear', degree=3, gamma='auto')\n",
    "svcls.fit(Xt_train,yt_train)\n",
    "\n",
    "# predict the labels on validation dataset\n",
    "y_pred_PCA = svcls.predict(Xt_test)\n",
    "\n",
    "# Use accuracy_score function to get the accuracy\n",
    "score_PCA = accuracy_score(y_pred_PCA, yt_test)*100\n",
    "print(\"PCA Accuracy Score -> \",score_PCA)\n",
    "\n",
    "# print Confusion matrix\n",
    "print(confusion_matrix(yt_test,y_pred_PCA))\n",
    "plot_confusion_matrix(svcls,Xt_test,yt_test,cmap=plt.cm.Blues).ax_.set_title('Confusion Matrix')"
   ]
  },
  {
   "cell_type": "markdown",
   "metadata": {},
   "source": [
    "### 7c >>> Plotting reviews of test values and predicted values"
   ]
  },
  {
   "cell_type": "code",
   "execution_count": 18,
   "metadata": {
    "scrolled": true
   },
   "outputs": [],
   "source": [
    "pred0 = yt_test[yt_test==0]\n",
    "pred1 = yt_test[yt_test==1]\n",
    "slices0 = [len(pred0),len(pred1)]\n",
    "\n",
    "pred0 = y_pred_PCA[y_pred_PCA==0]\n",
    "pred1 = y_pred_PCA[y_pred_PCA==1]\n",
    "slices1 = [len(pred0),len(pred1)]\n",
    "\n",
    "values = ['Not Liked   ', 'Liked']"
   ]
  },
  {
   "cell_type": "code",
   "execution_count": 19,
   "metadata": {},
   "outputs": [
    {
     "data": {
      "image/png": "[encoded data removed]",
      "text/plain": [
       "<Figure size 432x288 with 1 Axes>"
      ]
     },
     "metadata": {
      "needs_background": "light"
     },
     "output_type": "display_data"
    }
   ],
   "source": [
    "index = np.arange(len(values))\n",
    "width = 0.35\n",
    "fig,ax = plt.subplots()\n",
    "test = ax.bar(index-width/2,slices0,width,label='test data')\n",
    "pred = ax.bar(index+width/2,slices1,width,label='predicted data')\n",
    "\n",
    "ax.set_xticks(index)\n",
    "ax.set_xticklabels(values)\n",
    "plt.ylim(1,140)\n",
    "ax.legend()\n",
    "plt.show()"
   ]
  },
  {
   "cell_type": "markdown",
   "metadata": {},
   "source": [
    "### 8 >>> Plotting top 20 unigrams and bigrams Countervector"
   ]
  },
  {
   "cell_type": "code",
   "execution_count": 20,
   "metadata": {},
   "outputs": [
    {
     "name": "stdout",
     "output_type": "stream",
     "text": [
      "food 126\n",
      "place 106\n",
      "good 95\n",
      "service 85\n",
      "great 70\n",
      "like 46\n",
      "time 42\n",
      "really 36\n",
      "just 35\n",
      "best 30\n",
      "friendly 27\n",
      "don 26\n",
      "restaurant 25\n",
      "nice 25\n",
      "amazing 24\n",
      "delicious 23\n",
      "ve 23\n",
      "vegas 22\n",
      "did 22\n",
      "pretty 20\n"
     ]
    },
    {
     "data": {
      "text/plain": [
       "<matplotlib.axes._subplots.AxesSubplot at 0x162ad1f1df0>"
      ]
     },
     "execution_count": 20,
     "metadata": {},
     "output_type": "execute_result"
    },
    {
     "data": {
      "image/png": "[encoded data removed]",
      "text/plain": [
       "<Figure size 432x288 with 1 Axes>"
      ]
     },
     "metadata": {
      "needs_background": "light"
     },
     "output_type": "display_data"
    }
   ],
   "source": [
    "def get_top_n_words(corpus, n=None):\n",
    "    cv = CountVectorizer(stop_words = 'english').fit(corpus)\n",
    "    bag_of_words = cv.transform(corpus)\n",
    "    sum_words = bag_of_words.sum(axis=0) \n",
    "    words_freq = [(word, sum_words[0, idx]) for word, idx in cv.vocabulary_.items()]\n",
    "    words_freq =sorted(words_freq, key = lambda x: x[1], reverse=True)\n",
    "    return words_freq[:n]\n",
    "common_words = get_top_n_words(data['Review'], 20)\n",
    "for word, freq in common_words:\n",
    "    print(word, freq)\n",
    "df1 = pd.DataFrame(common_words, columns = ['Review' , 'count'])\n",
    "df1.plot(kind='bar',x='Review',y='count',color='green',title=\"Top 20 unigrams\")"
   ]
  },
  {
   "cell_type": "code",
   "execution_count": 21,
   "metadata": {
    "scrolled": false
   },
   "outputs": [
    {
     "name": "stdout",
     "output_type": "stream",
     "text": [
      "great food 8\n",
      "good food 8\n",
      "food good 7\n",
      "great service 6\n",
      "food service 6\n",
      "really good 6\n",
      "customer service 6\n",
      "great place 6\n",
      "food delicious 5\n",
      "food great 5\n",
      "anytime soon 5\n",
      "friendly staff 4\n",
      "feel like 4\n",
      "bad food 4\n",
      "10 minutes 4\n",
      "don know 4\n",
      "waste time 4\n",
      "zero stars 4\n",
      "won going 4\n",
      "don think 4\n"
     ]
    },
    {
     "data": {
      "text/plain": [
       "<matplotlib.axes._subplots.AxesSubplot at 0x162a95bcc40>"
      ]
     },
     "execution_count": 21,
     "metadata": {},
     "output_type": "execute_result"
    },
    {
     "data": {
      "image/png": "[encoded data removed]",
      "text/plain": [
       "<Figure size 432x288 with 1 Axes>"
      ]
     },
     "metadata": {
      "needs_background": "light"
     },
     "output_type": "display_data"
    }
   ],
   "source": [
    "def get_top_n_bigram(corpus, n=None):\n",
    "    cv = CountVectorizer(ngram_range=(2, 2), stop_words='english').fit(corpus)\n",
    "    bag_of_words = cv.transform(corpus)\n",
    "    sum_words = bag_of_words.sum(axis=0) \n",
    "    words_freq = [(word, sum_words[0, i]) for word, i in cv.vocabulary_.items()]\n",
    "    words_freq =sorted(words_freq, key = lambda x: x[1], reverse=True)\n",
    "    return words_freq[:n]\n",
    "common_words = get_top_n_bigram(data['Review'], 20)\n",
    "for word, freq in common_words:\n",
    "    print(word, freq)\n",
    "df2= pd.DataFrame(common_words, columns = ['Review' , 'count'])\n",
    "df2.plot(kind='bar',x='Review',y='count',color='green',title=\"Top 20 Bigrams\")"
   ]
  },
  {
   "cell_type": "markdown",
   "metadata": {},
   "source": [
    "### 9 >>> score comparison"
   ]
  },
  {
   "cell_type": "code",
   "execution_count": 22,
   "metadata": {},
   "outputs": [
    {
     "data": {
      "text/html": [
       "<div>\n",
       "<style scoped>\n",
       "    .dataframe tbody tr th:only-of-type {\n",
       "        vertical-align: middle;\n",
       "    }\n",
       "\n",
       "    .dataframe tbody tr th {\n",
       "        vertical-align: top;\n",
       "    }\n",
       "\n",
       "    .dataframe thead th {\n",
       "        text-align: right;\n",
       "    }\n",
       "</style>\n",
       "<table border=\"1\" class=\"dataframe\">\n",
       "  <thead>\n",
       "    <tr style=\"text-align: right;\">\n",
       "      <th></th>\n",
       "      <th>Classifier</th>\n",
       "      <th>Accuracy</th>\n",
       "    </tr>\n",
       "  </thead>\n",
       "  <tbody>\n",
       "    <tr>\n",
       "      <th>1</th>\n",
       "      <td>SVM</td>\n",
       "      <td>84.5</td>\n",
       "    </tr>\n",
       "    <tr>\n",
       "      <th>2</th>\n",
       "      <td>KNN</td>\n",
       "      <td>80.0</td>\n",
       "    </tr>\n",
       "    <tr>\n",
       "      <th>3</th>\n",
       "      <td>PCA with SVM</td>\n",
       "      <td>85.0</td>\n",
       "    </tr>\n",
       "  </tbody>\n",
       "</table>\n",
       "</div>"
      ],
      "text/plain": [
       "     Classifier  Accuracy\n",
       "1           SVM      84.5\n",
       "2           KNN      80.0\n",
       "3  PCA with SVM      85.0"
      ]
     },
     "execution_count": 22,
     "metadata": {},
     "output_type": "execute_result"
    }
   ],
   "source": [
    "score = {'Classifier':[\"SVM\", \"KNN\", \"PCA with SVM\"], \"Accuracy\":[score_SVM,score_KNN,score_PCA]}\n",
    "df = pd.DataFrame(score, columns = [\"Classifier\", \"Accuracy\"], index = [1,2,3])\n",
    "df"
   ]
  }
 ],
 "metadata": {
  "kernelspec": {
   "display_name": "Python 3",
   "language": "python",
   "name": "python3"
  },
  "language_info": {
   "codemirror_mode": {
    "name": "ipython",
    "version": 3
   },
   "file_extension": ".py",
   "mimetype": "text/x-python",
   "name": "python",
   "nbconvert_exporter": "python",
   "pygments_lexer": "ipython3",
   "version": "3.8.1"
  }
 },
 "nbformat": 4,
 "nbformat_minor": 4
}
